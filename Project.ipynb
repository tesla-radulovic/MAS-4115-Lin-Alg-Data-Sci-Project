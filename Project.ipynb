{
  "nbformat": 4,
  "nbformat_minor": 0,
  "metadata": {
    "colab": {
      "provenance": []
    },
    "kernelspec": {
      "name": "python3",
      "display_name": "Python 3"
    },
    "language_info": {
      "name": "python"
    }
  },
  "cells": [
    {
      "cell_type": "markdown",
      "source": [
        "#Accelerated Random Search\n",
        "\n",
        "[Original Paper](https://www.semanticscholar.org/paper/On-Accelerated-Random-Search-Appel-LaBarre/401a25fd01a1e49731ea1d715e0816d7641dbbbc)\n",
        "\n",
        "Accelerated Random Search is an optimization method which is applicable in every (continuous) case that normal \"Pure Random Search\" is, while being executable in useable time and trivial to implement.\n",
        "\n",
        "ARS also specifically specializes in dealing with functions which have near constant or even vanishing gradients due to its tendency to increase the sample radius as often as possible. Whereas other methods such as gradient descent waste time marching in this regions which is espeiscally innefficient when the cost of computing the value is at each point is high, such as when evaluating the fit of a neural network over a large data set.\n",
        "\n",
        "ARS is suffers when it is approaching a minimum in a region with a high curvature as its chance of finding an improvement is best when the region it is searching is planar. Due to its expanding radius nature, when in such positions needless time is wasted just like gradient descent in the case mentioned above.\n",
        "\n",
        "\n",
        "### Quadratic Accelerated Random Search (QARS)\n",
        "A proposed solution to this issue is QARS or Quadratic Accelerated Random Search. Where all the improvement samples are recorded, and when enough are found they are used to approximate a neighborhood of the function being optimized with a paraboloid. When such paraboloid is found, its vertex is used as the next sample point.\n",
        "\n",
        "### Immediate Applications to Data Science\n",
        "Use as a function to find fits for data with a lot of outliers, by using an L1 norm.\n",
        "\n",
        "### Possible Applications to Neural Networks\n",
        "Neural Networks suffer from a vanishing gradient problem, the precise problem which ARS seeks to fix. However, Neural Networks have large dimension which ARS does not deal well with.\n",
        "\n"
      ],
      "metadata": {
        "id": "wmPM_BC4YHBa"
      }
    },
    {
      "cell_type": "code",
      "source": [
        "import numpy as np"
      ],
      "metadata": {
        "id": "TltyfoL5tpa0"
      },
      "execution_count": null,
      "outputs": []
    },
    {
      "cell_type": "code",
      "source": [
        "#The following are helper methods for ARS, details on how they are used are found in ARS implementation\n",
        "\n",
        "\n",
        "#if the best sample so far is on the border of the domain\n",
        "#there is a chance that the newly chosen sample \n",
        "def clip_sample(L,U,sample):\n",
        "  return np.minimum( U, np.maximum( L, (sample) ) )\n",
        "\n",
        "#Function used for generating a new sample in a radius around the previous best sample\n",
        "#N denotes the shrinking factor, when N is 1 it is the entire space, as N increases the possible domain shrinks by half\n",
        "#The shrinking is also based on the dimension of the sample point, so in 3 dimensions each dimension is shrunk by the cube root of two, so that the volume is divided by half\n",
        "def new_sample(L, U, scale, sample, n):\n",
        "  return  clip_sample(L,U,sample + (np.random.rand(sample.size)-0.5)*scale*(2.0**(-n/sample.size) ))"
      ],
      "metadata": {
        "id": "TVOIjjvItvRz"
      },
      "execution_count": null,
      "outputs": []
    },
    {
      "cell_type": "code",
      "execution_count": null,
      "metadata": {
        "id": "lRYhfQWPteiQ"
      },
      "outputs": [],
      "source": [
        "#an simple pure random search\n",
        "#given a rectangular bounds and a function to optimize\n",
        "#PRS randomly samples the domain space to find the global minimum\n",
        "def PRS( domain, f, stop, every = -1):\n",
        "  center = np.average( domain.reshape(-1,2), axis = 1)\n",
        "  L,U = np.split( domain.reshape(-1,2), 2, axis = 1 )\n",
        "  L = np.reshape(L,(-1))\n",
        "  U = np.reshape(U,(-1))\n",
        "  scale = (U - L)\n",
        "\n",
        "  sample = new_sample(L,U,scale,center,1)\n",
        "\n",
        "  best_eval = f(sample.reshape(domain.shape[:-1]))\n",
        "  counter = 0\n",
        "  while counter < stop:\n",
        "    \n",
        "    n_sample = new_sample(L,U,scale,center,1)\n",
        "    n_eval = f(n_sample.reshape(domain.shape[:-1]) )\n",
        "    \n",
        "    if(n_eval < best_eval):\n",
        "      sample = n_sample\n",
        "      best_eval = n_eval\n",
        "    counter = counter + 1\n",
        "    if(every != - 1 and counter % every == 0):\n",
        "      print( counter/every, sample,best_eval )\n",
        "  return sample.reshape(domain.shape[:-1]),best_eval"
      ]
    },
    {
      "cell_type": "code",
      "source": [
        "#an simple pure random search\n",
        "#given a rectangular bounds and a function to optimize\n",
        "#ARS smartly samples the space to find a local mininum\n",
        "def ARS( domain, f, stop, every = -1):\n",
        "\n",
        "  center = np.average( domain.reshape(-1,2), axis = 1)\n",
        "  L,U = np.split( domain.reshape(-1,2), 2, axis = 1 )\n",
        "  L = np.reshape(L,(-1))\n",
        "  U = np.reshape(U,(-1))\n",
        "  #use the bounds to create weights to be used to generate new points down the line\n",
        "  scale = (U - L)\n",
        "\n",
        "  #pick an initial point\n",
        "  sample = new_sample(L,U,scale,center,1)\n",
        "\n",
        "  #N specifies the size of the region being searched (around the last best sample), a larger N means a smaller region\n",
        "  n = 0\n",
        "  #currently our best sample is using the only point we have\n",
        "  best_eval = f(sample.reshape(domain.shape[:-1]))\n",
        "  counter = 0\n",
        "\n",
        "  #we stop when our search radius gets really really low (remember radius decreases as N increases)\n",
        "  while n < stop:\n",
        "\n",
        "    #find a new sample centered around our current best sample\n",
        "    n_sample = new_sample(L,U,scale,sample,n)\n",
        "    #evaluate it\n",
        "    n_eval = f(n_sample.reshape(domain.shape[:-1]) )\n",
        "    #We premptively shrink the domain for the next pick\n",
        "    #If this new sample is not an improvement, shrinking the search radius\n",
        "    #increases our chance of finding an improvement with the next sample\n",
        "    n = n + 1\n",
        "    \n",
        "    \n",
        "    if(n_eval < best_eval):\n",
        "      #If we do find improvement, we want to skip as much space as possible\n",
        "      #(not crawl along like gradient descent)\n",
        "      #in the domain so we reset our search to the entire space and shrink\n",
        "      #if no subsequent improvements can be found\n",
        "      n = 0\n",
        "\n",
        "      #update the best evaluation and sample\n",
        "      sample = n_sample\n",
        "      best_eval = n_eval\n",
        "\n",
        "    counter = counter + 1\n",
        "    #log\n",
        "    if(every != - 1 and counter % every == 0):\n",
        "      print( counter/every,best_eval )\n",
        "  return sample.reshape(domain.shape[:-1]),best_eval"
      ],
      "metadata": {
        "id": "2T-9VColtrwz"
      },
      "execution_count": null,
      "outputs": []
    },
    {
      "cell_type": "markdown",
      "source": [
        "#Quadratic Accelerated Random Search\n",
        "\n",
        "ARS wastes sample and time in regions with high curvature. By approximating this region with a n-dimensional paraboloid, we can hope to arrive near the minimum of this region by sampling the vertex of this approximation\n",
        "\n",
        "Before scoping out to the full domain, we first attempt a \"skip\" by using such a parabaloid. The implementation is quite detailed, as it has to deal with 2 degree polynomials of arbitrary dimension.\n",
        "\n",
        "Spoilers: This section may be glossed over. As it did not perform as well as hoped"
      ],
      "metadata": {
        "id": "Fb3hR32tf6NK"
      }
    },
    {
      "cell_type": "code",
      "source": [
        "#Function to generate the template for coeffecients to be multiplied in the matrix\n",
        "def QUAD(n):\n",
        "  return [\n",
        "    [ int( (2*k+0.25)**0.5 - 0.5 ) , int(k - int( (2*k+0.25)**0.5 - 0.5 )*(int( (2*k+0.25)**0.5 - 0.5 )+1)*0.5) ] for k in range(0, int(n*(n+1)/2) )\n",
        "  ] + [ [k,-1] for k in range(0,n) ] + [[-1,-1]]\n",
        "#Function to use the template to create the rows of the matrix to be solved\n",
        "def QUAD_ROWS(x,quad):\n",
        "  return [\n",
        "    [ (xi[index[0]] if index[0] != -1 else 1  )*(xi[index[1]] if index[1] != -1 else 1  ) for index in quad  ] for xi in x\n",
        "  ]\n",
        "#Solving the equation of the parabaloid which fits the last few points\n",
        "def QUAD_FIT(x,y):\n",
        "  return np.linalg.inv(x)@y\n",
        "\n",
        "#Use the new fitted parabaloid equation in order to determine coordinates where the gradient is zero and where a potential local minimum (or maximum) is located\n",
        "def GRAD_ZERO(x,quad,n):\n",
        "  return [\n",
        "    (sum([ x[i] if (quad[i][0] == k) != (quad[i][1] == k) else 0  for i in range(0,len(quad) ) ]))/( -2*sum([ x[i] if (quad[i][0] == k) and (quad[i][1] == k) else 0  for i in range(0,len(quad) ) ]) ) for k in range(0,n)\n",
        "  ]\n",
        "\n",
        "#Quadratic Accelerated Random Search\n",
        "def QRS( domain, f, stop, every = -1, show_use = True):\n",
        "  center = np.average( domain.reshape(-1,2), axis = 1)\n",
        "  #precomputation for generating the matrix rows\n",
        "  Q = QUAD(center.size)\n",
        "  L,U = np.split( domain.reshape(-1,2), 2, axis = 1 )\n",
        "  L = np.reshape(L,(-1))\n",
        "  U = np.reshape(U,(-1))\n",
        "  scale = (U - L)\n",
        "\n",
        "  \n",
        "  n_sample = new_sample(L,U,scale,center,0)\n",
        "  n_eval = f(n_sample.reshape(domain.shape[:-1]) )\n",
        "  \n",
        "  n = 0\n",
        "  #we now want to keep track of multiple samples in order to compute\n",
        "  #the parabaloid approximation\n",
        "  best_samples = [n_sample]\n",
        "  best_evals = [n_eval]\n",
        "\n",
        "  counter = 0\n",
        "  works = 0\n",
        "  while n < stop:\n",
        "\n",
        "    #dummy debug variable used to count the number of parabaloid approximations\n",
        "    #which end up finding improvements\n",
        "    #spoilers: its low\n",
        "    thing = False\n",
        "    \n",
        "    #Apply the parabaloid method if new data is available\n",
        "    #need n = 0, since we only want to do this if the best_samples list updated\n",
        "    if( n == 0 and len(best_samples) == len(Q)  ):\n",
        "      \n",
        "      #sometimes the data ends up being randomly picked in such a way where the\n",
        "      #matrix is not invertible, or atleast not with computer precision\n",
        "      #espeiscally as samples tend to be close to eachother near the end stages,\n",
        "      #so we need a try catch block\n",
        "      try:\n",
        "        #compute the rows of the matrix to solve\n",
        "        rows = np.array(QUAD_ROWS( best_samples  , Q))\n",
        "        \n",
        "        #compute the coefficients for the parabolid\n",
        "        fit = QUAD_FIT( rows, np.array(best_evals) )\n",
        "        \n",
        "        #use the coefficients to find when the gradient of the paraboloid is zero\n",
        "        #hopefully giving an approximation of where a local minimum might be in\n",
        "        #the actual function\n",
        "        n_sample = clip_sample(L,U,GRAD_ZERO(fit,Q,center.size))\n",
        "        \n",
        "        thing = True\n",
        "\n",
        "    #if the try catch fails, or no new information is given:\n",
        "    #the sample will be picked as it is normally    \n",
        "      except:\n",
        "        n_sample = new_sample(L,U,scale,best_samples[-1],n)\n",
        "    else:  \n",
        "      n_sample = new_sample(L,U,scale,best_samples[-1],n)\n",
        "    \n",
        "    n_eval = f(n_sample.reshape(domain.shape[:-1]) )\n",
        "    n = n + 1\n",
        "    \n",
        "    #same logic as ARS but we push and pop the best sample queue\n",
        "    if(n_eval < best_evals[-1]):\n",
        "      n = 0\n",
        "\n",
        "\n",
        "      best_samples.append( n_sample )\n",
        "      best_evals.append( n_eval )\n",
        "      if(thing):\n",
        "        works = works + 1\n",
        "      if(len(best_samples) > len(Q) ):\n",
        "        best_samples.pop(0)\n",
        "        best_evals.pop(0)\n",
        "\n",
        "\n",
        "    counter = counter + 1\n",
        "    if(every != - 1 and counter % every == 0):\n",
        "      print( counter/every, best_samples[-1],best_evals[-1] )\n",
        "  if(show_use):\n",
        "    print(works)\n",
        "  return best_samples[-1].reshape(domain.shape[:-1]),best_evals[-1]"
      ],
      "metadata": {
        "id": "KukdB83Ft0mC"
      },
      "execution_count": null,
      "outputs": []
    },
    {
      "cell_type": "markdown",
      "source": [
        "# PRS, ARS, QARS TEST 1:\n",
        "## Finding the inverse of a matrix\n",
        "\n",
        "Here we find that PRS did manage to get close, however it required a million samples and is still quite noisy.\n",
        "\n",
        "ARS and QARS performed equally well, particulalry since they did the same thing. QARS prints out how many times the paraboloid found an improvement, and in this case it was zero. So the QARS algorithm did not help in this case."
      ],
      "metadata": {
        "id": "Ca7tqOjRvVhB"
      }
    },
    {
      "cell_type": "code",
      "source": [
        "def inverse(x):\n",
        "  out = np.array( [ [2,3],[2,2] ] ) @ x - np.eye(2)\n",
        "  return out.reshape(-1) @ out.reshape(-1)\n",
        "\n",
        "domain = [\n",
        "  [ [-2,2],[-2,2]  ],\n",
        "  [ [-2,2],[-2,2]  ]\n",
        "]\n",
        "\n",
        "\n",
        "print(\"\\n\\nRunning Pure Random Search:\\n\")\n",
        "\n",
        "m,err = PRS( np.array(  domain  ) , inverse , 1_000_000 )\n",
        "print()\n",
        "print(\"\\nPure Random Search Final Matrix:\\n\")\n",
        "print( m )\n",
        "print(\"\\nPure Random Search Final Error:\\n\")\n",
        "print( err)\n",
        "print(\"\\nPure Random Search Final Multiplication:\\n\")\n",
        "print( np.array( [ [2,3],[2,2] ] ) @ m)\n",
        "\n",
        "\n",
        "print(\"\\n\\nRunning Accelerated Random Search:\\n\")\n",
        "m,err = ARS( np.array(  domain  ) , inverse , 150 )\n",
        "print()\n",
        "print(\"\\nAccelerated Random Search Final Matrix:\\n\")\n",
        "print( m )\n",
        "print(\"\\nAccelerated Random Search Final Error:\\n\")\n",
        "print( err)\n",
        "print(\"\\nAccelerated Random Search Final Multiplication:\\n\")\n",
        "print( np.array( [ [2,3],[2,2] ] ) @ m)\n",
        "\n",
        "print(\"\\n\\nRunning Quadratic Accelerated Random Search:\\n\")\n",
        "m,err = QRS( np.array(  domain  ) , inverse , 150 )\n",
        "print()\n",
        "print(\"\\nQuadratic Accelerated Random Search Final Matrix:\\n\")\n",
        "print( m )\n",
        "print(\"\\nQuadratic Accelerated Random Search Final Error:\\n\")\n",
        "print( err)\n",
        "print(\"\\nQuadratic Accelerated Random Search Final Multiplication:\\n\")\n",
        "print( np.array( [ [2,3],[2,2] ] ) @ m)"
      ],
      "metadata": {
        "colab": {
          "base_uri": "https://localhost:8080/"
        },
        "id": "Tr1N1UTPvVLj",
        "outputId": "713d4c64-cba3-42de-8cf6-2bf73f87def8"
      },
      "execution_count": null,
      "outputs": [
        {
          "output_type": "stream",
          "name": "stdout",
          "text": [
            "\n",
            "\n",
            "Running Pure Random Search:\n",
            "\n",
            "\n",
            "\n",
            "Pure Random Search Final Matrix:\n",
            "\n",
            "[[-0.9966002   1.39218249]\n",
            " [ 1.0001051  -0.92123818]]\n",
            "\n",
            "Pure Random Search Final Error:\n",
            "\n",
            "0.0039031329468887264\n",
            "\n",
            "Pure Random Search Final Multiplication:\n",
            "\n",
            "[[1.0071149  0.02065042]\n",
            " [0.0070098  0.94188861]]\n",
            "\n",
            "\n",
            "Running Accelerated Random Search:\n",
            "\n",
            "\n",
            "\n",
            "Accelerated Random Search Final Matrix:\n",
            "\n",
            "[[-1.   1.5]\n",
            " [ 1.  -1. ]]\n",
            "\n",
            "Accelerated Random Search Final Error:\n",
            "\n",
            "5.155324389769471e-21\n",
            "\n",
            "Accelerated Random Search Final Multiplication:\n",
            "\n",
            "[[ 1.00000000e+00  2.29083419e-11]\n",
            " [-3.79549725e-11  1.00000000e+00]]\n",
            "\n",
            "\n",
            "Running Quadratic Accelerated Random Search:\n",
            "\n",
            "0\n",
            "\n",
            "\n",
            "Quadratic Accelerated Random Search Final Matrix:\n",
            "\n",
            "[[-1.   1.5]\n",
            " [ 1.  -1. ]]\n",
            "\n",
            "Quadratic Accelerated Random Search Final Error:\n",
            "\n",
            "1.0714774358263289e-20\n",
            "\n",
            "Quadratic Accelerated Random Search Final Multiplication:\n",
            "\n",
            "[[ 1.00000000e+00 -2.74664735e-11]\n",
            " [-8.76312356e-11  1.00000000e+00]]\n"
          ]
        }
      ]
    },
    {
      "cell_type": "markdown",
      "source": [
        "# PRS, ARS, QARS TEST 2:\n",
        "## Finding the mininum of a paraboloid\n",
        "\n",
        "After the abysmal failure of QARS in the last test, we now test how QARS performs in the ideal case: finding the minimum of a paraboloid.\n",
        "\n",
        "Here we find, ARS outperform QARS again, though in more verbose tests QARS arrives close to the minimum in just a few steps whereas as ARS still needs much more to get closer. One would expect that QARS is able to find the minimum immediatley once enough sample points are picked. But this is not the case, usually outputing that the paraboloid found an improvement 3-6 times. It should be ONE! The approximation SHOULD be the function itself. Likely it is an issue dealing with computer error, QARS does get close but the constant used of matrix inversion makes the approach noisier."
      ],
      "metadata": {
        "id": "h7zHGIj_lh9z"
      }
    },
    {
      "cell_type": "code",
      "source": [
        "def q(x):\n",
        "  return 5*(x[0]-2)**4 + 2*(x[1]-4)**2 + 3\n",
        "\n",
        "domain = [\n",
        "  [-1000,1000],[-1000,1000]\n",
        "]\n",
        "\n",
        "\n",
        "print(\"\\n\\nRunning Pure Random Search:\\n\")\n",
        "\n",
        "m,err = PRS( np.array(  domain  ) , q , 1_000_000 )\n",
        "print()\n",
        "print(\"\\nPure Random Search Final Matrix:\\n\")\n",
        "print( m )\n",
        "print(\"\\nPure Random Search Final Error:\\n\")\n",
        "print( err)\n",
        "\n",
        "\n",
        "print(\"\\n\\nRunning Accelerated Random Search:\\n\")\n",
        "m,err = ARS( np.array(  domain  ) , q , 150 )\n",
        "print()\n",
        "print(\"\\nAccelerated Random Search Final Matrix:\\n\")\n",
        "print( m )\n",
        "print(\"\\nAccelerated Random Search Final Error:\\n\")\n",
        "print( err)\n",
        "\n",
        "print(\"\\n\\nRunning Quadratic Accelerated Random Search:\\n\")\n",
        "m,err = QRS( np.array(  domain  ) , q , 150 )\n",
        "print()\n",
        "print(\"\\nQuadratic Accelerated Random Search Final Matrix:\\n\")\n",
        "print( m )\n",
        "print(\"\\nQuadratic Accelerated Random Search Final Error:\\n\")\n",
        "print( err)"
      ],
      "metadata": {
        "colab": {
          "base_uri": "https://localhost:8080/"
        },
        "id": "oV3WJHFhyluf",
        "outputId": "57b9ac8c-de52-4c7f-cefd-3994eb6c05ac"
      },
      "execution_count": null,
      "outputs": [
        {
          "output_type": "stream",
          "name": "stdout",
          "text": [
            "\n",
            "\n",
            "Running Pure Random Search:\n",
            "\n",
            "\n",
            "\n",
            "Pure Random Search Final Matrix:\n",
            "\n",
            "[1.74882286 3.98150687]\n",
            "\n",
            "Pure Random Search Final Error:\n",
            "\n",
            "3.020585702509094\n",
            "\n",
            "\n",
            "Running Accelerated Random Search:\n",
            "\n",
            "\n",
            "\n",
            "Accelerated Random Search Final Matrix:\n",
            "\n",
            "[1.99857969 4.00000002]\n",
            "\n",
            "Accelerated Random Search Final Error:\n",
            "\n",
            "3.0000000000203477\n",
            "\n",
            "\n",
            "Running Quadratic Accelerated Random Search:\n",
            "\n",
            "4\n",
            "\n",
            "\n",
            "Quadratic Accelerated Random Search Final Matrix:\n",
            "\n",
            "[2.00050217 4.        ]\n",
            "\n",
            "Quadratic Accelerated Random Search Final Error:\n",
            "\n",
            "3.000000000000318\n"
          ]
        }
      ]
    },
    {
      "cell_type": "markdown",
      "source": [
        "Setup for one of the most immediate uses of ARS:\n",
        "Linear Regression using L1 norm"
      ],
      "metadata": {
        "id": "rUIuOxNA0j-3"
      }
    },
    {
      "cell_type": "code",
      "source": [
        "import matplotlib.pyplot as plt\n",
        "\n",
        "#Compute the norm with an arbitrary power (so L2 norm, L1 norm, and even L 0.5 norm)\n",
        "def fit_LA(x,y,A):\n",
        "  dummy = x.copy()\n",
        "  def f(linpar):\n",
        "    #predict from x\n",
        "    np.multiply(x,linpar[0],out=dummy)\n",
        "    np.add(dummy,linpar[1],out=dummy)\n",
        "    np.subtract(dummy,y,out=dummy)\n",
        "    np.abs(dummy,out=dummy)\n",
        "    np.power(dummy,A,out=dummy)\n",
        "    return np.sum(dummy)**(1.0/A)\n",
        "  return f\n",
        "\n",
        "\n",
        "a = 5\n",
        "b = 5\n",
        "r = 10\n",
        "\n",
        "N = 50\n",
        "xr = np.arange(N)*1.0\n",
        "yr = a*xr + (np.random.rand(N)-0.5)*2*r + b\n",
        "\n",
        "x_outlier = np.random.rand(10)*50.0\n",
        "y_outlier = (np.random.rand(10)-0.5)*2*100.0\n",
        "\n",
        "x = np.concatenate( (xr,x_outlier) )\n",
        "y = np.concatenate( (yr,y_outlier) )\n",
        "\n",
        "plt.scatter(x, y, alpha=0.5)\n",
        "plt.show()"
      ],
      "metadata": {
        "colab": {
          "base_uri": "https://localhost:8080/",
          "height": 265
        },
        "id": "gaPjzRT70E1A",
        "outputId": "34b97556-b053-462e-b403-1c9bdcea0cff"
      },
      "execution_count": null,
      "outputs": [
        {
          "output_type": "display_data",
          "data": {
            "text/plain": [
              "<Figure size 432x288 with 1 Axes>"
            ],
            "image/png": "[encoded data removed]"
          },
          "metadata": {
            "needs_background": "light"
          }
        }
      ]
    },
    {
      "cell_type": "markdown",
      "source": [
        "#(Q)ARS Application 1:\n",
        "## Regression with non-differentiable norms\n",
        "\n",
        "Theory tells us that an L1 norm is less sensitive to outliers in data. But an L1 norm involves an absolute value, which does not play well with calculus or linear algebra and are thus harder to compute and the more algebra friendly L2 norm is used when possible. ARS presents a possible use case in this regard, to be able to find an L1 fit to data.\n",
        "\n",
        "This section also explores the idea of an L0.5 fit and also discovers why that it is a bad idea.\n",
        "\n",
        "QARS is used in this section, since it does not really seem to hurt. In the verbose logs QARS demonstrated that the parabaloid approximations found an improvement roughly 3-5 times per an instance, so the method does appear to be working in some limited capacity. The logs were ommited in the Notebook copy of the project as the test was run 1000 times.\n",
        "\n",
        "The code above is used to generate a new set of points to fit. The graph represents the data: fuzzy uniform noise around a line ( Y = 5x + 5) with a few completely random outliers.\n",
        "\n",
        "The data supported the theory: The L2 norm gave skewed results compared to the L1 and L0.5 norms. How,ever the L0.5 norm was much more skewed than the L1 norm. In all cases the intercept was incredibly noisly, but the same trend applies"
      ],
      "metadata": {
        "id": "0_HTRySn1-un"
      }
    },
    {
      "cell_type": "code",
      "source": [
        "domain = [\n",
        "    [-1000,1000],[-1000,1000]\n",
        "  ]\n",
        "\n",
        "results = []\n",
        "print(\"hi\")\n",
        "for i in range(0,1000):\n",
        "\n",
        "  xr = np.arange(N)*1.0\n",
        "  yr = a*xr + (np.random.rand(N)-0.5)*2*r + b\n",
        "\n",
        "  x_outlier = np.random.rand(10)*50.0\n",
        "  y_outlier = (np.random.rand(10)-0.5)*2*100.0\n",
        "\n",
        "  x = np.concatenate( (xr,x_outlier) )\n",
        "  y = np.concatenate( (yr,y_outlier) )\n",
        "\n",
        "  result_vec = []\n",
        "\n",
        "  #print(\"L2 NORM: \")\n",
        "  m,err = QRS( np.array(  domain  ) , fit_LA(x,y,2) , 150, show_use = False )\n",
        "  #print()\n",
        "  #print( m )\n",
        "  #print( err)\n",
        "  result_vec.append(m)\n",
        "\n",
        "  #print(\"L1 NORM: \")\n",
        "  m,err = QRS( np.array(  domain  ) , fit_LA(x,y,1) , 150, show_use = False )\n",
        "  #print()\n",
        "  #print( m )\n",
        "  #print( err)\n",
        "  result_vec.append(m)\n",
        "      \n",
        "  #print(\"L1/2 NORM: \")\n",
        "  m,err = QRS( np.array(  domain  ) , fit_LA(x,y,0.5) , 150, show_use = False )\n",
        "  #print()\n",
        "  #print( m )\n",
        "  #print( err)\n",
        "  result_vec.append(m)\n",
        "\n",
        "  results.append(result_vec)\n",
        "\n",
        "  if(i % 25 == 0):\n",
        "    print(\"% completed:\" ,100.0*i/1000)\n",
        "\n",
        "results_np = np.array(results)\n",
        "\n",
        "L2,L1,L1_2 = zip(*results_np)\n",
        "\n",
        "M2,B2 = zip(*L2)\n",
        "\n",
        "M1,B1 = zip(*L1)\n",
        "\n",
        "M1_2,B1_2 = zip(*L1_2)\n",
        "\n",
        "fig,axs = plt.subplots(nrows=2,ncols=3)\n",
        "\n",
        "fig.set_size_inches(18.5, 10.5)\n",
        "\n",
        "axs[0,0].set_title(\"L2 Slope\")\n",
        "axs[0,0].hist( M2 )\n",
        "\n",
        "axs[0,1].set_title(\"L1 Slope\")\n",
        "axs[0,1].hist( M1 )\n",
        "\n",
        "axs[0,2].set_title(\"L1/2 Slope\")\n",
        "axs[0,2].hist( M1_2 )\n",
        "\n",
        "axs[1,0].set_title(\"L2 Intercept\")\n",
        "axs[1,0].hist( B2 )\n",
        "\n",
        "axs[1,1].set_title(\"L1 Intercept\")\n",
        "axs[1,1].hist( B1 )\n",
        "\n",
        "axs[1,2].set_title(\"L1/2 Intercept\")\n",
        "axs[1,2].hist( B1_2 )\n",
        "\n",
        "plt.show()"
      ],
      "metadata": {
        "colab": {
          "base_uri": "https://localhost:8080/",
          "height": 1000
        },
        "id": "lgkO2irw1_NU",
        "outputId": "1913ca0d-534b-4a17-fedd-a3adc3d787bf"
      },
      "execution_count": null,
      "outputs": [
        {
          "metadata": {
            "tags": null
          },
          "name": "stdout",
          "output_type": "stream",
          "text": [
            "hi\n",
            "% completed: 0.0\n"
          ]
        },
        {
          "metadata": {
            "tags": null
          },
          "name": "stderr",
          "output_type": "stream",
          "text": [
            "/usr/local/lib/python3.7/dist-packages/ipykernel_launcher.py:18: RuntimeWarning: divide by zero encountered in double_scalars\n"
          ]
        },
        {
          "metadata": {
            "tags": null
          },
          "name": "stdout",
          "output_type": "stream",
          "text": [
            "% completed: 2.5\n"
          ]
        },
        {
          "metadata": {
            "tags": null
          },
          "name": "stderr",
          "output_type": "stream",
          "text": [
            "/usr/local/lib/python3.7/dist-packages/ipykernel_launcher.py:18: RuntimeWarning: invalid value encountered in double_scalars\n"
          ]
        },
        {
          "output_type": "stream",
          "name": "stdout",
          "text": [
            "% completed: 5.0\n",
            "% completed: 7.5\n",
            "% completed: 10.0\n",
            "% completed: 12.5\n",
            "% completed: 15.0\n",
            "% completed: 17.5\n",
            "% completed: 20.0\n",
            "% completed: 22.5\n",
            "% completed: 25.0\n",
            "% completed: 27.5\n",
            "% completed: 30.0\n",
            "% completed: 32.5\n",
            "% completed: 35.0\n",
            "% completed: 37.5\n",
            "% completed: 40.0\n",
            "% completed: 42.5\n",
            "% completed: 45.0\n",
            "% completed: 47.5\n",
            "% completed: 50.0\n",
            "% completed: 52.5\n",
            "% completed: 55.0\n",
            "% completed: 57.5\n",
            "% completed: 60.0\n",
            "% completed: 62.5\n",
            "% completed: 65.0\n",
            "% completed: 67.5\n",
            "% completed: 70.0\n",
            "% completed: 72.5\n",
            "% completed: 75.0\n",
            "% completed: 77.5\n",
            "% completed: 80.0\n",
            "% completed: 82.5\n",
            "% completed: 85.0\n",
            "% completed: 87.5\n",
            "% completed: 90.0\n",
            "% completed: 92.5\n",
            "% completed: 95.0\n",
            "% completed: 97.5\n"
          ]
        },
        {
          "output_type": "display_data",
          "data": {
            "text/plain": [
              "<Figure size 1332x756 with 6 Axes>"
            ],
            "image/png": "[encoded data removed]"
          },
          "metadata": {
            "needs_background": "light"
          }
        }
      ]
    },
    {
      "cell_type": "markdown",
      "source": [
        "#Manually writing an ARS Optimizer for Keras\n",
        "To be honest, Keras is still quite confusing to me. For writing the optimizer to use ARS on neural networks I decided to reduce it to the already solved numpy array problem I developed ARS in. This required writing an efficient map which turned numpy arrays into weights which can be fed into Keras.\n",
        "\n",
        "To this I crated a helper function: `create_packer`\n",
        "\n",
        "`create-packer` takes the weights from an already compiled keras model to generate a function which can take a numpy array, turn it into a buffer, and make a list of numpy arrays which view (not copy) the original data in a format which can be assigned to the Keras Network.\n",
        "\n",
        "`compile_ARS_trainer` simply takes a model and a packer and outputs a function that ARS can use to train the network.\n"
      ],
      "metadata": {
        "id": "Qy6Xc9_F3cME"
      }
    },
    {
      "cell_type": "code",
      "source": [
        "from keras.models import Sequential\n",
        "from keras.layers import Dense\n",
        "import datetime\n",
        "\n",
        "#We need a method to turn a flat numpy array into the form that keras can use\n",
        "def create_packer( init_data ):\n",
        "  shapes = [array.shape for array in init_data]\n",
        "  sizes = np.array( [array.size for array in init_data] )\n",
        "    \n",
        "  offsets = np.cumsum( sizes )-sizes# - sizes[0]\n",
        "\n",
        "  def outputter(data):\n",
        "    buffer = data.data\n",
        "    return [ np.frombuffer(buffer, dtype=float , count = sizes[i], offset = offsets[i]*8 ).reshape(shapes[i]) for i in range(0, len(shapes) ) ]\n",
        "  return np.sum(sizes),outputter\n",
        "\n",
        "def compile_ARS_trainer(model,packer):\n",
        "  def train_ARS(vec):\n",
        "    pack = packer(vec)\n",
        "    model.set_weights(pack)\n",
        "    return model.test_on_batch(X,Y)\n",
        "  return train_ARS\n",
        "\n",
        "# prepare data set\n",
        "X = np.array([[0, 0], [0, 1], [1, 0], [1, 1]])\n",
        "Y = np.array([[0], [1], [1], [0]])\n",
        "            \n"
      ],
      "metadata": {
        "id": "NOB4CZU23czt"
      },
      "execution_count": null,
      "outputs": []
    },
    {
      "cell_type": "markdown",
      "source": [
        "#ARS vs Adam\n",
        "\n",
        "Here we see the surprising result of ARS generating less loss than the default \"Adam\" optimization in Keras, in the problem of representing an XOR function.\n",
        "\n",
        "It is unknown from just this data whether ARS is a good scheme for Neural Networks in general, or we just got luck with this example.\n",
        "\n",
        "There was a similar test run on the scilearn iris dataset. ARS tried to compete but failed miserably. The neural network had over 600 weights, due to the surprising sucess of ARS in this test it leads me to believe the large dimension was the main factor for ARS' poor performace, because after all ARS was designed to work in the vanishing gradient problem. It thus warrants further investigation as to what cases does ARS work for training neural networks, and can alterations be made to help it converge in the case of high dimension.\n",
        "\n",
        "(The iris dataset was ommited to the extreme amount of time it took for ARS to converge, it would not work in a notebook)\n",
        "\n",
        "Originally this project did not even anticipate that there would be a case where ARS outperformed traditional NN optimization. The scope was intended to be limited to applying L1 loss functions, under the assumption that L1 could not be operated by neural networks (this idea was completely dismissed once the documentation for Keras loss functions was read).\n",
        "\n",
        "At the time of this writing the graphs are still being computed, so comments can be made about their appearace. But if they match up with the tests done on my local machine, pay attention to the scale on the x-axis for ARS, at first glance it looks like ARS is far worse than Adam, but it is in fact much less lossy."
      ],
      "metadata": {
        "id": "BC3z74VYrAB-"
      }
    },
    {
      "cell_type": "code",
      "source": [
        "def run_normal():\n",
        "  # create model   \n",
        "  model = Sequential()\n",
        "      \n",
        "  # Adding the input layer and the first hidden layer\n",
        "  model.add(Dense(8, activation = 'relu', input_dim = 2))\n",
        "  # Adding the second hidden layer\n",
        "  model.add(Dense(4, activation = 'relu'))\n",
        "  # Adding the output layer\n",
        "  model.add(Dense(1, activation = 'sigmoid'))\n",
        "\n",
        "      \n",
        "  # compile model   \n",
        "  model.compile(optimizer = 'adam', loss = 'binary_crossentropy', metrics = ['accuracy'])\n",
        "      \n",
        "  # fit the model\n",
        "  start = datetime.datetime.now()\n",
        "  model.fit(X, Y, batch_size = 1, epochs = 750, verbose = 0)\n",
        "  end = datetime.datetime.now()\n",
        "    \n",
        "  loss,acc = model.evaluate(X, Y, verbose = 0)\n",
        "  # evaluate the model\n",
        "  return loss,acc,(end-start).microseconds\n",
        "\n",
        "\n",
        "def run_ARS():\n",
        "  # create model   \n",
        "  model = Sequential()\n",
        "      \n",
        "  # Adding the input layer and the first hidden layer\n",
        "  model.add(Dense(8, activation = 'relu', input_dim = 2))\n",
        "  # Adding the second hidden layer\n",
        "  model.add(Dense(4, activation = 'relu'))\n",
        "  # Adding the output layer\n",
        "  model.add(Dense(1, activation = 'sigmoid'))\n",
        "\n",
        "      \n",
        "  # compile model   \n",
        "  model.compile(optimizer = 'adam', loss = 'binary_crossentropy', metrics = ['accuracy'])\n",
        "\n",
        "  \n",
        "\n",
        "\n",
        "  size_of_data,packer = create_packer( model.get_weights() )\n",
        "\n",
        "  domain = np.array( [ [-10,10] for i in range(0,size_of_data)  ] )\n",
        "\n",
        "  \n",
        "\n",
        "  start = datetime.datetime.now()\n",
        "  m,err = ARS( domain , compile_ARS_trainer(model,packer) , 1500 )\n",
        "  end = datetime.datetime.now()\n",
        "    \n",
        "  loss,acc = model.evaluate(X, Y, verbose = 0)\n",
        "  # evaluate the model\n",
        "  return loss,acc,(end-start).microseconds\n",
        "\n",
        "\n",
        "\n",
        "losses_normal = []\n",
        "times_normal = []\n",
        "\n",
        "losses_ars = []\n",
        "times_ars = []\n",
        "for i in range(0,500):\n",
        "  norm = run_normal()\n",
        "  ars = run_ARS()\n",
        "  losses_normal.append(norm[0])\n",
        "  times_normal.append(norm[2])\n",
        "  losses_ars.append(ars[0])\n",
        "  times_ars.append(ars[2])\n",
        "  if(i % 25 == 0):\n",
        "    print(\"% completed:\" ,100.0*i/500)\n",
        "\n"
      ],
      "metadata": {
        "id": "Bj9VQw5RE8bt",
        "colab": {
          "base_uri": "https://localhost:8080/"
        },
        "outputId": "cb12c6f7-2596-4c1d-e17e-ac60a90cb5c0"
      },
      "execution_count": null,
      "outputs": [
        {
          "output_type": "stream",
          "name": "stdout",
          "text": [
            "% completed: 0.0\n",
            "% completed: 5.0\n",
            "% completed: 10.0\n",
            "% completed: 15.0\n",
            "% completed: 20.0\n",
            "% completed: 25.0\n",
            "% completed: 30.0\n",
            "% completed: 35.0\n",
            "% completed: 40.0\n",
            "% completed: 45.0\n",
            "% completed: 50.0\n",
            "% completed: 55.0\n",
            "% completed: 60.0\n",
            "% completed: 65.0\n",
            "% completed: 70.0\n",
            "% completed: 75.0\n",
            "% completed: 80.0\n",
            "% completed: 85.0\n",
            "% completed: 90.0\n",
            "% completed: 95.0\n"
          ]
        }
      ]
    },
    {
      "cell_type": "code",
      "source": [
        "fig,axs = plt.subplots(nrows=2,ncols=2)\n",
        "\n",
        "fig.set_size_inches(18.5, 18.5)\n",
        "\n",
        "axs[0,0].set_title(\"Loss (Normal Training)\")\n",
        "axs[0,0].hist( losses_normal )\n",
        "\n",
        "axs[0,1].set_title(\"Loss (ARS Training)\")\n",
        "axs[0,1].hist( losses_ars )\n",
        "axs[0,1].set_xlim([0.0,0.1])\n",
        "\n",
        "axs[1,0].set_title(\"Time (Normal Training\")\n",
        "axs[1,0].hist( times_normal )\n",
        "\n",
        "axs[1,1].set_title(\"Time (ARS Training\")\n",
        "axs[1,1].hist( times_ars )\n",
        "\n",
        "plt.show()"
      ],
      "metadata": {
        "id": "tsFozH-xKHX9",
        "colab": {
          "base_uri": "https://localhost:8080/",
          "height": 1000
        },
        "outputId": "f1424d2e-5b8b-4267-b5b0-77b92d9fd1ee"
      },
      "execution_count": null,
      "outputs": [
        {
          "output_type": "display_data",
          "data": {
            "text/plain": [
              "<Figure size 1332x1332 with 4 Axes>"
            ],
            "image/png": "[encoded data removed]"
          },
          "metadata": {
            "needs_background": "light"
          }
        }
      ]
    }
  ]
}